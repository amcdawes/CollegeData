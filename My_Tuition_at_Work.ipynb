{
 "cells": [
  {
   "cell_type": "code",
   "execution_count": 1,
   "metadata": {
    "collapsed": true
   },
   "outputs": [],
   "source": [
    "import pyodbc\n",
    "import requests\n",
    "from xml.etree import ElementTree as ET\n",
    "import pandas as pd\n",
    "import numpy as np\n",
    "import matplotlib.pyplot as plt\n",
    "import sys"
   ]
  },
  {
   "cell_type": "markdown",
   "metadata": {
    "collapsed": true
   },
   "source": [
    "Starting with data for 2016\n",
    "\n",
    "Data set IRS 990 forms available via AWS:\n",
    " - https://aws.amazon.com/public-datasets/irs-990/\n",
    "\n",
    "Gather EIN numbers for higher ed institutions in US via\n",
    " - https://nces.ed.gov/ipeds/Home/UseTheData\n",
    "\n",
    "and select appropriate variables. CSV file \"CSV_10282017-487/CSV_10282017-487.csv\" is the lookup table\n"
   ]
  },
  {
   "cell_type": "code",
   "execution_count": 2,
   "metadata": {
    "collapsed": true
   },
   "outputs": [],
   "source": [
    "ein_dln_df = pd.read_csv(\"index_2016.csv\")\n",
    "univ_ein_name_df = pd.read_csv(\"CSV_10282017-487/CSV_10282017-487.csv\")"
   ]
  },
  {
   "cell_type": "code",
   "execution_count": 3,
   "metadata": {},
   "outputs": [
    {
     "data": {
      "text/html": [
       "<div>\n",
       "<style>\n",
       "    .dataframe thead tr:only-child th {\n",
       "        text-align: right;\n",
       "    }\n",
       "\n",
       "    .dataframe thead th {\n",
       "        text-align: left;\n",
       "    }\n",
       "\n",
       "    .dataframe tbody tr th {\n",
       "        vertical-align: top;\n",
       "    }\n",
       "</style>\n",
       "<table border=\"1\" class=\"dataframe\">\n",
       "  <thead>\n",
       "    <tr style=\"text-align: right;\">\n",
       "      <th></th>\n",
       "      <th>RETURN_ID</th>\n",
       "      <th>FILING_TYPE</th>\n",
       "      <th>EIN</th>\n",
       "      <th>TAX_PERIOD</th>\n",
       "      <th>SUB_DATE</th>\n",
       "      <th>TAXPAYER_NAME</th>\n",
       "      <th>RETURN_TYPE</th>\n",
       "      <th>DLN</th>\n",
       "      <th>OBJECT_ID</th>\n",
       "    </tr>\n",
       "  </thead>\n",
       "  <tbody>\n",
       "    <tr>\n",
       "      <th>0</th>\n",
       "      <td>13190365</td>\n",
       "      <td>EFILE</td>\n",
       "      <td>742661023</td>\n",
       "      <td>201412</td>\n",
       "      <td>02/09/2016</td>\n",
       "      <td>HARRIET AND HARMON KELLEY FOUNDATION FOR THE ARTS</td>\n",
       "      <td>990PF</td>\n",
       "      <td>93491315003445</td>\n",
       "      <td>201543159349100344</td>\n",
       "    </tr>\n",
       "  </tbody>\n",
       "</table>\n",
       "</div>"
      ],
      "text/plain": [
       "   RETURN_ID FILING_TYPE        EIN  TAX_PERIOD    SUB_DATE  \\\n",
       "0   13190365       EFILE  742661023      201412  02/09/2016   \n",
       "\n",
       "                                       TAXPAYER_NAME RETURN_TYPE  \\\n",
       "0  HARRIET AND HARMON KELLEY FOUNDATION FOR THE ARTS       990PF   \n",
       "\n",
       "              DLN           OBJECT_ID  \n",
       "0  93491315003445  201543159349100344  "
      ]
     },
     "execution_count": 3,
     "metadata": {},
     "output_type": "execute_result"
    }
   ],
   "source": [
    "ein_dln_df.head(1)"
   ]
  },
  {
   "cell_type": "code",
   "execution_count": 4,
   "metadata": {},
   "outputs": [
    {
     "data": {
      "text/html": [
       "<div>\n",
       "<style>\n",
       "    .dataframe thead tr:only-child th {\n",
       "        text-align: right;\n",
       "    }\n",
       "\n",
       "    .dataframe thead th {\n",
       "        text-align: left;\n",
       "    }\n",
       "\n",
       "    .dataframe tbody tr th {\n",
       "        vertical-align: top;\n",
       "    }\n",
       "</style>\n",
       "<table border=\"1\" class=\"dataframe\">\n",
       "  <thead>\n",
       "    <tr style=\"text-align: right;\">\n",
       "      <th></th>\n",
       "      <th>unitid</th>\n",
       "      <th>institution name</th>\n",
       "      <th>year</th>\n",
       "      <th>institution name.1</th>\n",
       "      <th>HD2016.Employer Identification Number</th>\n",
       "    </tr>\n",
       "  </thead>\n",
       "  <tbody>\n",
       "    <tr>\n",
       "      <th>0</th>\n",
       "      <td>100654</td>\n",
       "      <td>Alabama A &amp; M University</td>\n",
       "      <td>2016</td>\n",
       "      <td>Alabama A &amp; M University</td>\n",
       "      <td>636001109</td>\n",
       "    </tr>\n",
       "  </tbody>\n",
       "</table>\n",
       "</div>"
      ],
      "text/plain": [
       "   unitid          institution name  year        institution name.1  \\\n",
       "0  100654  Alabama A & M University  2016  Alabama A & M University   \n",
       "\n",
       "   HD2016.Employer Identification Number  \n",
       "0                              636001109  "
      ]
     },
     "execution_count": 4,
     "metadata": {},
     "output_type": "execute_result"
    }
   ],
   "source": [
    "univ_ein_name_df.head(1)"
   ]
  },
  {
   "cell_type": "code",
   "execution_count": 5,
   "metadata": {
    "collapsed": true
   },
   "outputs": [],
   "source": [
    "ein_to_univ = univ_ein_name_df.rename(columns={'HD2016.Employer Identification Number': 'EIN'})"
   ]
  },
  {
   "cell_type": "code",
   "execution_count": 6,
   "metadata": {
    "collapsed": true
   },
   "outputs": [],
   "source": [
    "univ_dln = pd.merge(ein_dln_df,ein_to_univ,on=\"EIN\")  # only get 1105 (others are for-profit)"
   ]
  },
  {
   "cell_type": "code",
   "execution_count": 7,
   "metadata": {},
   "outputs": [
    {
     "data": {
      "text/plain": [
       "RETURN_ID             1105\n",
       "FILING_TYPE           1105\n",
       "EIN                   1105\n",
       "TAX_PERIOD            1105\n",
       "SUB_DATE              1105\n",
       "TAXPAYER_NAME         1105\n",
       "RETURN_TYPE           1105\n",
       "DLN                   1105\n",
       "OBJECT_ID             1105\n",
       "unitid                1105\n",
       "institution name      1105\n",
       "year                  1105\n",
       "institution name.1    1105\n",
       "dtype: int64"
      ]
     },
     "execution_count": 7,
     "metadata": {},
     "output_type": "execute_result"
    }
   ],
   "source": [
    "univ_dln.count()  # a DF with DLN for 2073 higher-ed insitutions in the US"
   ]
  },
  {
   "cell_type": "code",
   "execution_count": 8,
   "metadata": {
    "collapsed": true
   },
   "outputs": [],
   "source": [
    "# All institutions:\n",
    "xml_to_get = univ_dln.OBJECT_ID"
   ]
  },
  {
   "cell_type": "code",
   "execution_count": 9,
   "metadata": {
    "collapsed": true
   },
   "outputs": [],
   "source": [
    "# This is a template for how to get a dataframe of officer compensation by university name:\n",
    "\n",
    "def get_officers_by_name(name):\n",
    "    \"\"\"\n",
    "    Get a dataframe of paid officers for the institution\n",
    "    inputs:\n",
    "        name -> (title case), e.g. Pacific University\n",
    "                matches institution name field\n",
    "    \"\"\"\n",
    "    if (univ_dln[\"institution name\"] == name).any():\n",
    "        dln = univ_dln[univ_dln[\"institution name\"] == name]\n",
    "    elif (univ_dln[\"institution name\"].str.contains(name)).any():\n",
    "        dln = univ_dln[univ_dln[\"institution name\"].str.contains(name)][0]\n",
    "    else:\n",
    "        print(\"Not Found\")\n",
    "        return []\n",
    "\n",
    "    ob_id = dln.OBJECT_ID.iloc[0]\n",
    "\n",
    "    url = \"https://s3.amazonaws.com/irs-form-990/\" + str(ob_id) + \"_public.xml\"\n",
    "    response = requests.get(url)\n",
    "    root = ET.fromstring(response.content)\n",
    "\n",
    "    # Modify this to get any other IRS990 info:\n",
    "    paid_officers = root.findall(\".//{http://www.irs.gov/efile}Form990PartVIISectionAGrp\")\n",
    "\n",
    "    df_list = []\n",
    "\n",
    "    for i,officer in enumerate(paid_officers):  # enumerate so we can index properly\n",
    "        #print(i[4].text)\n",
    "        keys = []\n",
    "        vals = []\n",
    "        for field in officer:\n",
    "            #print(field.text)\n",
    "            keys.append(field.tag[26:])\n",
    "            vals.append(field.text)\n",
    "\n",
    "        #print(dict(zip(keys,vals)))\n",
    "        row = pd.DataFrame(dict(zip(keys,vals)),index=[i])  # have to index with a single item\n",
    "        df_list.append( row )\n",
    "        #print(row)\n",
    "        #df.append(row)\n",
    "\n",
    "    officers_df = pd.concat(df_list)\n",
    "\n",
    "    officers_df[\"Institution\"] = name\n",
    "    \n",
    "    return officers_df"
   ]
  },
  {
   "cell_type": "code",
   "execution_count": 10,
   "metadata": {
    "collapsed": true
   },
   "outputs": [],
   "source": [
    "# This is a template for how to get a dataframe of officer compensation by university name:\n",
    "\n",
    "def get_officers_by_obid(obid):\n",
    "    if (univ_dln.OBJECT_ID == obid).any():\n",
    "        dln = univ_dln[univ_dln.OBJECT_ID == obid]\n",
    "    else:\n",
    "        print(\"Not Found\")\n",
    "        return []\n",
    "\n",
    "    ob_id = dln.OBJECT_ID.iloc[0]\n",
    "\n",
    "    url = \"https://s3.amazonaws.com/irs-form-990/\" + str(ob_id) + \"_public.xml\"\n",
    "    response = requests.get(url)\n",
    "    root = ET.fromstring(response.content)\n",
    "\n",
    "    # Modify this to get any other IRS990 info:\n",
    "    paid_officers = root.findall(\".//{http://www.irs.gov/efile}Form990PartVIISectionAGrp\")\n",
    "\n",
    "    df_list = []\n",
    "\n",
    "    for i,officer in enumerate(paid_officers):  # enumerate so we can index properly\n",
    "        #print(i[4].text)\n",
    "        keys = []\n",
    "        vals = []\n",
    "        for field in officer:\n",
    "            #print(field.text)\n",
    "            keys.append(field.tag[26:])\n",
    "            vals.append(field.text)\n",
    "\n",
    "        #print(dict(zip(keys,vals)))\n",
    "        row = pd.DataFrame(dict(zip(keys,vals)),index=[i])  # have to index with a single item\n",
    "        df_list.append( row )\n",
    "        #print(row)\n",
    "        #df.append(row)\n",
    "        \n",
    "    if len(df_list) > 0:\n",
    "        officers_df = pd.concat(df_list)\n",
    "    else:\n",
    "        return pd.DataFrame([])\n",
    "\n",
    "    name = univ_dln[univ_dln.OBJECT_ID == obid]['institution name'].iloc[0]\n",
    "    officers_df[\"Institution\"] = name\n",
    "    \n",
    "    return officers_df"
   ]
  },
  {
   "cell_type": "code",
   "execution_count": 11,
   "metadata": {},
   "outputs": [
    {
     "name": "stdout",
     "output_type": "stream",
     "text": [
      "CPU times: user 1min 14s, sys: 4.63 s, total: 1min 19s\n",
      "Wall time: 14min 59s\n"
     ]
    }
   ],
   "source": [
    "%%time\n",
    "df_list = []\n",
    "for obid in xml_to_get:\n",
    "    try:\n",
    "        df = get_officers_by_obid(obid)\n",
    "    except ConnectionError:\n",
    "        pass\n",
    "    if not df.empty:\n",
    "        df_list.append(df)"
   ]
  },
  {
   "cell_type": "code",
   "execution_count": 12,
   "metadata": {},
   "outputs": [
    {
     "data": {
      "text/plain": [
       "1101"
      ]
     },
     "execution_count": 12,
     "metadata": {},
     "output_type": "execute_result"
    }
   ],
   "source": [
    "# got most of the records:\n",
    "len(df_list)"
   ]
  },
  {
   "cell_type": "code",
   "execution_count": 13,
   "metadata": {
    "collapsed": true
   },
   "outputs": [],
   "source": [
    "total = pd.concat(df_list)"
   ]
  },
  {
   "cell_type": "code",
   "execution_count": 14,
   "metadata": {},
   "outputs": [
    {
     "data": {
      "text/plain": [
       "Index(['AverageHoursPerWeekRltdOrgRt', 'AverageHoursPerWeekRt', 'BusinessName',\n",
       "       'FormerOfcrDirectorTrusteeInd', 'HighestCompensatedEmployeeInd',\n",
       "       'IndividualTrusteeOrDirectorInd', 'Institution',\n",
       "       'InstitutionalTrusteeInd', 'KeyEmployeeInd', 'OfficerInd',\n",
       "       'OtherCompensationAmt', 'PersonNm', 'ReportableCompFromOrgAmt',\n",
       "       'ReportableCompFromRltdOrgAmt', 'TitleTxt'],\n",
       "      dtype='object')"
      ]
     },
     "execution_count": 14,
     "metadata": {},
     "output_type": "execute_result"
    }
   ],
   "source": [
    "total.columns"
   ]
  },
  {
   "cell_type": "markdown",
   "metadata": {},
   "source": [
    "### Convert numeric columns to int for proper aggregation.\n",
    "`df[['col2','col3']] = df[['col2','col3']].apply(pd.to_numeric)`"
   ]
  },
  {
   "cell_type": "code",
   "execution_count": 15,
   "metadata": {
    "collapsed": true
   },
   "outputs": [],
   "source": [
    "total['ReportableCompFromOrgAmt'] = total['ReportableCompFromOrgAmt'].apply(pd.to_numeric)"
   ]
  },
  {
   "cell_type": "code",
   "execution_count": 19,
   "metadata": {
    "collapsed": true
   },
   "outputs": [
    {
     "data": {
      "text/plain": [
       "Institution\n",
       "Abilene Christian University                       263420.0\n",
       "Adelphi University                                 553588.0\n",
       "Adrian College                                     729149.0\n",
       "Adventist University of Health Sciences                 0.0\n",
       "Agnes Scott College                                267503.0\n",
       "Alaska Pacific University                          220360.0\n",
       "Albany College of Pharmacy and Health Sciences     473588.0\n",
       "Albertus Magnus College                            360889.0\n",
       "Albion College                                     154239.0\n",
       "Albright College                                   322348.0\n",
       "Alderson Broaddus University                       170000.0\n",
       "Alfred University                                  358977.0\n",
       "Alice Lloyd College                                154293.0\n",
       "Allegheny College                                  348833.0\n",
       "Allen College                                           0.0\n",
       "Allen University                                   245303.0\n",
       "Alma College                                       261654.0\n",
       "Alvernia University                                286365.0\n",
       "Alverno College                                    297267.0\n",
       "American International College                     367798.0\n",
       "American Jewish University                         217392.0\n",
       "American University                               1233175.0\n",
       "Amherst College                                    446396.0\n",
       "Amridge University                                 201660.0\n",
       "Anderson University                                367160.0\n",
       "Andrews University                                  93727.0\n",
       "Anna Maria College                                 245262.0\n",
       "Antioch College                                    425851.0\n",
       "Antioch University-Los Angeles                     334863.0\n",
       "Appalachian Bible College                           87759.0\n",
       "                                                    ...    \n",
       "William Carey University                           286783.0\n",
       "William Jessup University                          132459.0\n",
       "William Jewell College                             274141.0\n",
       "William Peace University                           482237.0\n",
       "William Penn University                            143319.0\n",
       "William Woods University                           362457.0\n",
       "Williams College                                   945847.0\n",
       "Williamson Christian College                        67998.0\n",
       "Wilmington College                                 176692.0\n",
       "Wilmington University                             5439420.0\n",
       "Wilson College                                     204500.0\n",
       "Wingate University                                 550720.0\n",
       "Wisconsin Lutheran College                         144906.0\n",
       "Wittenberg University                              268225.0\n",
       "Wofford College                                    326091.0\n",
       "Woodbury University                                417432.0\n",
       "Worcester Polytechnic Institute                    506526.0\n",
       "World Mission University                            48685.0\n",
       "Xavier University                                 1359820.0\n",
       "Xavier University of Louisiana                     386869.0\n",
       "Yale University                                   4888288.0\n",
       "Yeshiva College of the Nations Capital             143288.0\n",
       "Yeshiva Derech Chaim                                24000.0\n",
       "Yeshiva Shaarei Torah of Rockland                   22580.0\n",
       "Yeshiva University                                1219191.0\n",
       "Yeshiva Zichron Aryeh                               16042.0\n",
       "Yeshiva of Machzikai Hadas                          70762.0\n",
       "York College                                       115505.0\n",
       "York College Pennsylvania                          560806.0\n",
       "Young Harris College                               303072.0\n",
       "Name: ReportableCompFromOrgAmt, Length: 1031, dtype: float64"
      ]
     },
     "execution_count": 19,
     "metadata": {},
     "output_type": "execute_result"
    }
   ],
   "source": [
    "# Find max compensation grouped by institution:\n",
    "total.groupby('Institution')['ReportableCompFromOrgAmt'].max()"
   ]
  },
  {
   "cell_type": "code",
   "execution_count": 16,
   "metadata": {
    "collapsed": true
   },
   "outputs": [],
   "source": [
    "total.to_pickle(\"total1101.pkl\")"
   ]
  },
  {
   "cell_type": "code",
   "execution_count": 18,
   "metadata": {
    "collapsed": true
   },
   "outputs": [],
   "source": [
    "schoolofficers = total.pivot_table(index='Institution', columns='TitleTxt', values='ReportableCompFromOrgAmt')"
   ]
  },
  {
   "cell_type": "code",
   "execution_count": 19,
   "metadata": {},
   "outputs": [
    {
     "data": {
      "text/plain": [
       "TitleTxt\n",
       "President                        372596.0\n",
       "CFO/Treasurer                    220336.0\n",
       "Faculty                          210134.6\n",
       "VP for Development               209663.0\n",
       "Provost & Dean of the Faculty    186056.0\n",
       "Dean of Students                 171640.0\n",
       "Chief Information Officer        157638.0\n",
       "Vice Chair                            0.0\n",
       "Trustee                               0.0\n",
       "Chair                                 0.0\n",
       "Name: Whitman College, dtype: float64"
      ]
     },
     "execution_count": 19,
     "metadata": {},
     "output_type": "execute_result"
    }
   ],
   "source": [
    "# Sorted list of top positions for a given college:\n",
    "\n",
    "# need to show only nonnull so use dropna:\n",
    "schoolofficers.loc[\"Whitman College\"].dropna().sort_values(ascending=False)"
   ]
  },
  {
   "cell_type": "code",
   "execution_count": 20,
   "metadata": {
    "collapsed": true
   },
   "outputs": [],
   "source": [
    "positions = schoolofficers.transpose()"
   ]
  },
  {
   "cell_type": "code",
   "execution_count": 22,
   "metadata": {
    "collapsed": true
   },
   "outputs": [],
   "source": [
    "%matplotlib inline"
   ]
  },
  {
   "cell_type": "code",
   "execution_count": 23,
   "metadata": {},
   "outputs": [
    {
     "data": {
      "text/plain": [
       "<matplotlib.axes._subplots.AxesSubplot at 0x1149d2b00>"
      ]
     },
     "execution_count": 23,
     "metadata": {},
     "output_type": "execute_result"
    },
    {
     "data": {
      "image/png": "[encoded data removed]",
      "text/plain": [
       "<matplotlib.figure.Figure at 0x11725cc88>"
      ]
     },
     "metadata": {},
     "output_type": "display_data"
    }
   ],
   "source": [
    "# distribution of mean officer salaries\n",
    "positions.mean().hist(bins=100)\n"
   ]
  },
  {
   "cell_type": "code",
   "execution_count": 42,
   "metadata": {},
   "outputs": [
    {
     "data": {
      "image/png": "[encoded data removed]",
      "text/plain": [
       "<matplotlib.figure.Figure at 0x117cd5908>"
      ]
     },
     "metadata": {},
     "output_type": "display_data"
    }
   ],
   "source": [
    "fig = plt.figure(figsize=(12,6))\n",
    "positions.quantile(0.75).hist(bins=50,label=\"75% quantile\")\n",
    "positions.quantile(0.5).hist(bins=50,label=\"50% quantile\")\n",
    "positions.quantile(0.25).hist(bins=50,label=\"25% quantile\")\n",
    "ax = plt.gca()\n",
    "ax.vlines(x=positions['Pacific University'].quantile(0.75), ymin=0, ymax=200, color='tab:blue',label=\"PacU 75%\")\n",
    "ax.vlines(x=positions['Pacific University'].quantile(0.5), ymin=0, ymax=200, color='tab:orange',label=\"PacU 50%\")\n",
    "ax.vlines(x=positions['Pacific University'].quantile(0.25), ymin=0, ymax=200, color='tab:green',label=\"PacU 25%\")\n",
    "plt.legend()\n",
    "plt.ylim([0,210])\n",
    "plt.xlim([12000,600000])\n",
    "plt.title(\"The magic 6-figure salary\")\n",
    "plt.xlabel(\"Officer Salary\")\n",
    "plt.savefig(\"officersalary.png\")"
   ]
  },
  {
   "cell_type": "markdown",
   "metadata": {
    "collapsed": true
   },
   "source": [
    "This graph shows the 75%, 50% and 25% quantiles for officer salaries at US colleges and universities. A few important points: 1) there is a strong pileup at 100k, this reflects the perception that a \"six-figure salary\" indicates status in the position. Above that point, there is rapid decay with an extremely long tail. A specific institution, in this case \"Pacific University\" is added so the officer salary quantiles can be compared to the national distribution. In this case, it appears safe to say that most PacU officers are paid very highly, though the bottom 25% are in line with the national distribution. \n",
    "\n",
    "The long-tail outliers are often special cases, but still deserve some attention. In particular, we need to ask: \"Shy pay so much?\" and \"What metrics improve for an institution that pays officers so highly?\"\n",
    "\n",
    "\n",
    "## Next steps:\n",
    " - pull more IRS990 fields: total expenses, instructional expenses, salary expenses\n",
    " - calculate metrics for each as fraction of total, fraction of tuition, etc\n",
    " \n",
    "## Longer-term goals:\n",
    " - track vs. time by pulling prior IRS990 years. Tricky due to different XML formats. Some help found here: http://990.charitynavigator.org/"
   ]
  },
  {
   "cell_type": "code",
   "execution_count": null,
   "metadata": {
    "collapsed": true
   },
   "outputs": [],
   "source": []
  }
 ],
 "metadata": {
  "kernelspec": {
   "display_name": "Python 3",
   "language": "python",
   "name": "python3"
  },
  "language_info": {
   "codemirror_mode": {
    "name": "ipython",
    "version": 3
   },
   "file_extension": ".py",
   "mimetype": "text/x-python",
   "name": "python",
   "nbconvert_exporter": "python",
   "pygments_lexer": "ipython3",
   "version": "3.6.2"
  }
 },
 "nbformat": 4,
 "nbformat_minor": 2
}
